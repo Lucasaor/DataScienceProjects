{
  "nbformat": 4,
  "nbformat_minor": 0,
  "metadata": {
    "kernelspec": {
      "display_name": "Python 3",
      "language": "python",
      "name": "python3"
    },
    "language_info": {
      "codemirror_mode": {
        "name": "ipython",
        "version": 3
      },
      "file_extension": ".py",
      "mimetype": "text/x-python",
      "name": "python",
      "nbconvert_exporter": "python",
      "pygments_lexer": "ipython3",
      "version": "3.7.6"
    },
    "colab": {
      "name": "Deep Learning com Keras.ipynb",
      "provenance": [],
      "collapsed_sections": [],
      "include_colab_link": true
    }
  },
  "cells": [
    {
      "cell_type": "markdown",
      "metadata": {
        "id": "view-in-github",
        "colab_type": "text"
      },
      "source": [
        "<a href=\"https://colab.research.google.com/github/Lucasaor/DataScienceProjects/blob/master/Deep_Learning_com_Keras.ipynb\" target=\"_parent\"><img src=\"https://colab.research.google.com/assets/colab-badge.svg\" alt=\"Open In Colab\"/></a>"
      ]
    },
    {
      "cell_type": "markdown",
      "metadata": {
        "id": "4LHMwsX-Qj0g",
        "colab_type": "text"
      },
      "source": [
        "<h1><font color='red' style='font-size: 36px;'>  Deep Learning com Keras </font> </h1>\n",
        "<hr style='border: 2px solid red;'>"
      ]
    },
    {
      "cell_type": "markdown",
      "metadata": {
        "id": "2O4n-oQqQj0h",
        "colab_type": "text"
      },
      "source": [
        "# Importando o DataSet\n",
        "\n",
        "Neste notebook será abordada uma aplicação de *Deep Learning* utilizando o **TensorFlow**, especificamente com a API de alto nível Keras. Vamos construir um exemplode aplicaÇão para e-commerce, focado em um loja virtual de roupas.\n",
        "\n",
        "O DataSet que será utilizado já está implementado diretamente no Keras, no pacote ```keras.datasets.fashion_mnist```."
      ]
    },
    {
      "cell_type": "code",
      "metadata": {
        "id": "gSxIqjfhRDLw",
        "colab_type": "code",
        "colab": {
          "base_uri": "https://localhost:8080/",
          "height": 646
        },
        "outputId": "0d317caf-7336-497c-d2dd-793ffb417d9d"
      },
      "source": [
        "!pip install tensorflow==2.1"
      ],
      "execution_count": 25,
      "outputs": [
        {
          "output_type": "stream",
          "text": [
            "Requirement already satisfied: tensorflow==2.1 in /usr/local/lib/python3.6/dist-packages (2.1.0)\n",
            "Requirement already satisfied: termcolor>=1.1.0 in /usr/local/lib/python3.6/dist-packages (from tensorflow==2.1) (1.1.0)\n",
            "Requirement already satisfied: absl-py>=0.7.0 in /usr/local/lib/python3.6/dist-packages (from tensorflow==2.1) (0.8.1)\n",
            "Requirement already satisfied: protobuf>=3.8.0 in /usr/local/lib/python3.6/dist-packages (from tensorflow==2.1) (3.12.4)\n",
            "Requirement already satisfied: tensorflow-estimator<2.2.0,>=2.1.0rc0 in /usr/local/lib/python3.6/dist-packages (from tensorflow==2.1) (2.1.0)\n",
            "Requirement already satisfied: tensorboard<2.2.0,>=2.1.0 in /usr/local/lib/python3.6/dist-packages (from tensorflow==2.1) (2.1.1)\n",
            "Requirement already satisfied: wrapt>=1.11.1 in /usr/local/lib/python3.6/dist-packages (from tensorflow==2.1) (1.12.1)\n",
            "Requirement already satisfied: astor>=0.6.0 in /usr/local/lib/python3.6/dist-packages (from tensorflow==2.1) (0.8.1)\n",
            "Requirement already satisfied: numpy<2.0,>=1.16.0 in /usr/local/lib/python3.6/dist-packages (from tensorflow==2.1) (1.18.5)\n",
            "Requirement already satisfied: google-pasta>=0.1.6 in /usr/local/lib/python3.6/dist-packages (from tensorflow==2.1) (0.2.0)\n",
            "Requirement already satisfied: opt-einsum>=2.3.2 in /usr/local/lib/python3.6/dist-packages (from tensorflow==2.1) (3.3.0)\n",
            "Requirement already satisfied: grpcio>=1.8.6 in /usr/local/lib/python3.6/dist-packages (from tensorflow==2.1) (1.31.0)\n",
            "Requirement already satisfied: six>=1.12.0 in /usr/local/lib/python3.6/dist-packages (from tensorflow==2.1) (1.15.0)\n",
            "Requirement already satisfied: wheel>=0.26; python_version >= \"3\" in /usr/local/lib/python3.6/dist-packages (from tensorflow==2.1) (0.35.1)\n",
            "Requirement already satisfied: scipy==1.4.1; python_version >= \"3\" in /usr/local/lib/python3.6/dist-packages (from tensorflow==2.1) (1.4.1)\n",
            "Requirement already satisfied: keras-preprocessing>=1.1.0 in /usr/local/lib/python3.6/dist-packages (from tensorflow==2.1) (1.1.2)\n",
            "Requirement already satisfied: keras-applications>=1.0.8 in /usr/local/lib/python3.6/dist-packages (from tensorflow==2.1) (1.0.8)\n",
            "Requirement already satisfied: gast==0.2.2 in /usr/local/lib/python3.6/dist-packages (from tensorflow==2.1) (0.2.2)\n",
            "Requirement already satisfied: setuptools in /usr/local/lib/python3.6/dist-packages (from protobuf>=3.8.0->tensorflow==2.1) (49.6.0)\n",
            "Requirement already satisfied: requests<3,>=2.21.0 in /usr/local/lib/python3.6/dist-packages (from tensorboard<2.2.0,>=2.1.0->tensorflow==2.1) (2.23.0)\n",
            "Requirement already satisfied: google-auth<2,>=1.6.3 in /usr/local/lib/python3.6/dist-packages (from tensorboard<2.2.0,>=2.1.0->tensorflow==2.1) (1.17.2)\n",
            "Requirement already satisfied: google-auth-oauthlib<0.5,>=0.4.1 in /usr/local/lib/python3.6/dist-packages (from tensorboard<2.2.0,>=2.1.0->tensorflow==2.1) (0.4.1)\n",
            "Requirement already satisfied: werkzeug>=0.11.15 in /usr/local/lib/python3.6/dist-packages (from tensorboard<2.2.0,>=2.1.0->tensorflow==2.1) (1.0.1)\n",
            "Requirement already satisfied: markdown>=2.6.8 in /usr/local/lib/python3.6/dist-packages (from tensorboard<2.2.0,>=2.1.0->tensorflow==2.1) (3.2.2)\n",
            "Requirement already satisfied: h5py in /usr/local/lib/python3.6/dist-packages (from keras-applications>=1.0.8->tensorflow==2.1) (2.10.0)\n",
            "Requirement already satisfied: idna<3,>=2.5 in /usr/local/lib/python3.6/dist-packages (from requests<3,>=2.21.0->tensorboard<2.2.0,>=2.1.0->tensorflow==2.1) (2.10)\n",
            "Requirement already satisfied: urllib3!=1.25.0,!=1.25.1,<1.26,>=1.21.1 in /usr/local/lib/python3.6/dist-packages (from requests<3,>=2.21.0->tensorboard<2.2.0,>=2.1.0->tensorflow==2.1) (1.24.3)\n",
            "Requirement already satisfied: certifi>=2017.4.17 in /usr/local/lib/python3.6/dist-packages (from requests<3,>=2.21.0->tensorboard<2.2.0,>=2.1.0->tensorflow==2.1) (2020.6.20)\n",
            "Requirement already satisfied: chardet<4,>=3.0.2 in /usr/local/lib/python3.6/dist-packages (from requests<3,>=2.21.0->tensorboard<2.2.0,>=2.1.0->tensorflow==2.1) (3.0.4)\n",
            "Requirement already satisfied: rsa<5,>=3.1.4; python_version >= \"3\" in /usr/local/lib/python3.6/dist-packages (from google-auth<2,>=1.6.3->tensorboard<2.2.0,>=2.1.0->tensorflow==2.1) (4.6)\n",
            "Requirement already satisfied: pyasn1-modules>=0.2.1 in /usr/local/lib/python3.6/dist-packages (from google-auth<2,>=1.6.3->tensorboard<2.2.0,>=2.1.0->tensorflow==2.1) (0.2.8)\n",
            "Requirement already satisfied: cachetools<5.0,>=2.0.0 in /usr/local/lib/python3.6/dist-packages (from google-auth<2,>=1.6.3->tensorboard<2.2.0,>=2.1.0->tensorflow==2.1) (4.1.1)\n",
            "Requirement already satisfied: requests-oauthlib>=0.7.0 in /usr/local/lib/python3.6/dist-packages (from google-auth-oauthlib<0.5,>=0.4.1->tensorboard<2.2.0,>=2.1.0->tensorflow==2.1) (1.3.0)\n",
            "Requirement already satisfied: importlib-metadata; python_version < \"3.8\" in /usr/local/lib/python3.6/dist-packages (from markdown>=2.6.8->tensorboard<2.2.0,>=2.1.0->tensorflow==2.1) (1.7.0)\n",
            "Requirement already satisfied: pyasn1>=0.1.3 in /usr/local/lib/python3.6/dist-packages (from rsa<5,>=3.1.4; python_version >= \"3\"->google-auth<2,>=1.6.3->tensorboard<2.2.0,>=2.1.0->tensorflow==2.1) (0.4.8)\n",
            "Requirement already satisfied: oauthlib>=3.0.0 in /usr/local/lib/python3.6/dist-packages (from requests-oauthlib>=0.7.0->google-auth-oauthlib<0.5,>=0.4.1->tensorboard<2.2.0,>=2.1.0->tensorflow==2.1) (3.1.0)\n",
            "Requirement already satisfied: zipp>=0.5 in /usr/local/lib/python3.6/dist-packages (from importlib-metadata; python_version < \"3.8\"->markdown>=2.6.8->tensorboard<2.2.0,>=2.1.0->tensorflow==2.1) (3.1.0)\n"
          ],
          "name": "stdout"
        }
      ]
    },
    {
      "cell_type": "code",
      "metadata": {
        "id": "zUCAh7LAQj0i",
        "colab_type": "code",
        "colab": {
          "base_uri": "https://localhost:8080/",
          "height": 34
        },
        "outputId": "4a8f7d17-3f7b-4c1a-c913-be03717a2f57"
      },
      "source": [
        "import tensorflow as tf\n",
        "import numpy as np\n",
        "from tensorflow import keras\n",
        "\n",
        "print(tf.__version__)"
      ],
      "execution_count": 26,
      "outputs": [
        {
          "output_type": "stream",
          "text": [
            "2.1.0\n"
          ],
          "name": "stdout"
        }
      ]
    },
    {
      "cell_type": "code",
      "metadata": {
        "id": "6JYsO2XDf975",
        "colab_type": "code",
        "colab": {
          "base_uri": "https://localhost:8080/",
          "height": 34
        },
        "outputId": "f49515e0-404e-4d0c-92ec-e6fc3619d65e"
      },
      "source": [
        "SEED = 777\n",
        "np.random.seed(SEED)\n",
        "\n",
        "dataset = keras.datasets.fashion_mnist\n",
        "((imagens_treino,identificacoes_treino),(imagens_teste,identificacoes_teste)) = dataset.load_data()\n",
        "imagens_treino.shape\n"
      ],
      "execution_count": 27,
      "outputs": [
        {
          "output_type": "execute_result",
          "data": {
            "text/plain": [
              "(60000, 28, 28)"
            ]
          },
          "metadata": {
            "tags": []
          },
          "execution_count": 27
        }
      ]
    },
    {
      "cell_type": "markdown",
      "metadata": {
        "id": "T6n0VFP_Qj0o",
        "colab_type": "text"
      },
      "source": [
        "O dataset importado consiste em imagens de roupas reduzidas para escala de cinza em figuras de 28x28 pixels. Para poder visualizar\n",
        "estas imagens, vamos utilizar o ```matplotlib``` e o comando ```implot()```. Tomando uma dos elementos do array de imagens de treino como exemplo, é possível visualizar a imagem que este representa."
      ]
    },
    {
      "cell_type": "code",
      "metadata": {
        "id": "pYv1HVSSQj0o",
        "colab_type": "code",
        "colab": {
          "base_uri": "https://localhost:8080/",
          "height": 537
        },
        "outputId": "a981660f-1ae8-41cc-d4b3-10c51137a723"
      },
      "source": [
        "import matplotlib.pyplot as plt\n",
        "\n",
        "f, ax = plt.subplots(figsize=(16,9))\n",
        "ax = plt.imshow(imagens_treino[0])\n",
        "plt.show()"
      ],
      "execution_count": 28,
      "outputs": [
        {
          "output_type": "display_data",
          "data": {
            "image/png": "[encoded data removed]",
            "text/plain": [
              "<Figure size 1152x648 with 1 Axes>"
            ]
          },
          "metadata": {
            "tags": [],
            "needs_background": "light"
          }
        }
      ]
    },
    {
      "cell_type": "markdown",
      "metadata": {
        "id": "XyHh-t3RQj0s",
        "colab_type": "text"
      },
      "source": [
        "Ao analisar os valores de identificação das imagens, nota-se 10 tipos de roupas diferentes (0 a 9). esta classificação está descrita na documentação da ```fashion_mnist```, disponível [aqui](https://github.com/zalandoresearch/fashion-mnist). Importamos esta referência em uma ```list```.\n",
        "Sendo assim, é possível apresentar todos os tipos de imagens que temos no dataset em um subplot, conforme o código abaixo."
      ]
    },
    {
      "cell_type": "code",
      "metadata": {
        "id": "JPQlJIrvQj0s",
        "colab_type": "code",
        "colab": {
          "base_uri": "https://localhost:8080/",
          "height": 502
        },
        "outputId": "aa948fb0-2cb1-41f5-c5b1-a90d5ce2cb4e"
      },
      "source": [
        "#classificações do fashion_mnist\n",
        "nomes_de_classificoes = ['T-shirt/top','Trouser','Pullover','Dress','Coat','Sandal','Shirt','Sneaker','Bag','Ankle boot']\n",
        "\n",
        "#configurações do plt\n",
        "f, ax = plt.subplots(figsize=(21,9))\n",
        "\n",
        "font = {'family': 'monospace',\n",
        "        'color':  'white',\n",
        "        'weight': 'normal',\n",
        "        'size': 18,\n",
        "        }\n",
        "#iterações para construir o plot\n",
        "for imagem in range(12):\n",
        "    plt.subplot(2,6,imagem+1)\n",
        "    ax = plt.imshow(imagens_treino[imagem])\n",
        "    plt.title(nomes_de_classificoes[identificacoes_treino[imagem]],fontdict=font)\n",
        "\n",
        "plt.show()"
      ],
      "execution_count": 29,
      "outputs": [
        {
          "output_type": "display_data",
          "data": {
            "image/png": "[encoded data removed]",
            "text/plain": [
              "<Figure size 1512x648 with 12 Axes>"
            ]
          },
          "metadata": {
            "tags": [],
            "needs_background": "light"
          }
        }
      ]
    },
    {
      "cell_type": "markdown",
      "metadata": {
        "id": "nufRhX4NQj0v",
        "colab_type": "text"
      },
      "source": [
        "# Criando as camadas da rede neural\n",
        "\n",
        "O modelo a ser criado utilizando o Keras será um modelo **sequencial**, englobando as etapas de entrada, processamento e saída de dados. O Keras já possui isso implementado, no ```keras.Sequential()```. Cada uma das etapas será uma **camada** deste modelo sequencial.\n",
        "\n",
        "A primeira camada, chamada **Camada 0**, será responsável por receber as imagens de entrada (matriz 28x28 pixels), e convertê-las em um array unidimensional, que facilita o processamento. Esta operação é conhecida como **Flatten**, e já está inclusa no Keras. \n",
        "\n",
        "A camada de processamento é a **Camada 1**, onde todos os elementos desta camada comunicarão com os elementos da camada anterior, formando assim uma *rede neural*. É sugerido que o tamanho desta camada seja uma base de 2 (para facilitar o processamento com bits). Aqui também aplicamos uma função de ativação do *TensorFlow* muito utilizada para redes neurais, a ```nn.relu```. Esta função é essencial para realizar processos de aprendizagem **não-linear** e está bem detalhada [aqui](https://machinelearningmastery.com/rectified-linear-activation-function-for-deep-learning-neural-networks/).\n",
        "\n",
        "Por fim, a camada de sáida, **Camada 2**, irá implementar uma função que divide em pesos a probabilidade das entradas recebidas estarem relacionadas com cada uma das categorias identificadas (os 10 tipos de roupas neste exemplo). Isso é realizado através da função ```nn.softmax```."
      ]
    },
    {
      "cell_type": "code",
      "metadata": {
        "id": "sLuPhfgTQj0w",
        "colab_type": "code",
        "colab": {
          "base_uri": "https://localhost:8080/",
          "height": 68
        },
        "outputId": "8f454d47-ce43-4a82-cf7f-a4bc074338db"
      },
      "source": [
        "modelo =keras.Sequential([\n",
        "            keras.layers.Flatten(input_shape=(28,28)),               # Camada 0\n",
        "            keras.layers.Dense(256, activation=tf.nn.relu),  # Camada 1\n",
        "            keras.layers.Dense(10, activation=tf.nn.softmax) # Camada 2\n",
        "])\n",
        "\n",
        "modelo.compile(optimizer='adam',loss='sparse_categorical_crossentropy')\n",
        "\n",
        "modelo.fit(imagens_treino,identificacoes_treino)"
      ],
      "execution_count": 30,
      "outputs": [
        {
          "output_type": "stream",
          "text": [
            "Train on 60000 samples\n",
            "60000/60000 [==============================] - 6s 92us/sample - loss: 4.0442\n"
          ],
          "name": "stdout"
        },
        {
          "output_type": "execute_result",
          "data": {
            "text/plain": [
              "<tensorflow.python.keras.callbacks.History at 0x7f5ffa797940>"
            ]
          },
          "metadata": {
            "tags": []
          },
          "execution_count": 30
        }
      ]
    },
    {
      "cell_type": "markdown",
      "metadata": {
        "id": "dYIO3SnbQj00",
        "colab_type": "text"
      },
      "source": [
        "A forma que o modelo está interpretando as imagens não está considerando a escala de cinza das imagens de forma correta. Isso pode ser corrigido se *normalizarmos* (colocando os valores entre 0 e 1) esta informação antes de enviá-la ao modelo. Como a escala de cinza varia em 8 bits (de 0 a 255), basta dividir a entrada por esse valor em ```float``` que teremos um parâmetro normalizado."
      ]
    },
    {
      "cell_type": "code",
      "metadata": {
        "id": "uhCv92kUQj01",
        "colab_type": "code",
        "colab": {
          "base_uri": "https://localhost:8080/",
          "height": 68
        },
        "outputId": "6c1b8a4c-3ad4-4443-d681-fea724ca6c93"
      },
      "source": [
        "imagens_treino_normalizada = imagens_treino/float(255) #normalizando a entrada \n",
        "\n",
        "modelo =keras.Sequential([\n",
        "            keras.layers.Flatten(input_shape=(28,28)),               # Camada 0\n",
        "            keras.layers.Dense(256, activation=tf.nn.relu),  # Camada 1\n",
        "            keras.layers.Dense(10, activation=tf.nn.softmax) # Camada 2\n",
        "])\n",
        "\n",
        "modelo.compile(optimizer='adam',loss='sparse_categorical_crossentropy')\n",
        "\n",
        "modelo.fit(imagens_treino_normalizada,identificacoes_treino)"
      ],
      "execution_count": 37,
      "outputs": [
        {
          "output_type": "stream",
          "text": [
            "Train on 60000 samples\n",
            "60000/60000 [==============================] - 6s 93us/sample - loss: 0.4829\n"
          ],
          "name": "stdout"
        },
        {
          "output_type": "execute_result",
          "data": {
            "text/plain": [
              "<tensorflow.python.keras.callbacks.History at 0x7f5ff83ed4a8>"
            ]
          },
          "metadata": {
            "tags": []
          },
          "execution_count": 37
        }
      ]
    },
    {
      "cell_type": "markdown",
      "metadata": {
        "id": "tu7OjzaSQj04",
        "colab_type": "text"
      },
      "source": [
        "Comparando os dois resultados, é notável que a perda reduziu drasticamente mediante a normalização da entrada, o que representa uma grande melhora no desempenho da rede neural."
      ]
    },
    {
      "cell_type": "markdown",
      "metadata": {
        "id": "QTCZn-q6Qj04",
        "colab_type": "text"
      },
      "source": [
        "# Melhorando a formação de camadas\n",
        "\n",
        "A rede criada para aprender os padrões apresentados possui, até o momento, apenas uma camada intermediária composta por 256 nós. Esta rede recebe uma entrada de 784 ($28^2$) nós, e repassa para uma rede de saída com apenas 10 nós. Para buscar uma melhoria, outras configurações para as camadas ocultas podem ser implementadas. Esta seção dedica-se à investigação das alternativas para esta construção.\n",
        "\n",
        "Para testar esta hipótese, dois modelos auxiliares (```modelo_2``` e ```modelo_3```) são criados, o primeiro adicionando uma uma camada oculta de 128 nós após a Camada 1, e o segundo adicionando a de 128 e mais uma de 64 em sequência."
      ]
    },
    {
      "cell_type": "code",
      "metadata": {
        "id": "vM4khoW6Qj05",
        "colab_type": "code",
        "colab": {
          "base_uri": "https://localhost:8080/",
          "height": 68
        },
        "outputId": "15564f90-f51f-489d-cdee-9726456f1e39"
      },
      "source": [
        "\n",
        "modelo_2 =keras.Sequential([\n",
        "            keras.layers.Flatten(input_shape=(28,28)),               # Camada 0\n",
        "            keras.layers.Dense(256, activation=tf.nn.relu),  # Camada 1.1\n",
        "            keras.layers.Dense(128, activation=tf.nn.relu),  # Camada 1.2\n",
        "            keras.layers.Dense(10, activation=tf.nn.softmax) # Camada 2\n",
        "])\n",
        "\n",
        "modelo_2.compile(optimizer='adam',loss='sparse_categorical_crossentropy')\n",
        "\n",
        "modelo_2.fit(imagens_treino_normalizada,identificacoes_treino)\n",
        "\n"
      ],
      "execution_count": 32,
      "outputs": [
        {
          "output_type": "stream",
          "text": [
            "Train on 60000 samples\n",
            "60000/60000 [==============================] - 7s 114us/sample - loss: 0.4726\n"
          ],
          "name": "stdout"
        },
        {
          "output_type": "execute_result",
          "data": {
            "text/plain": [
              "<tensorflow.python.keras.callbacks.History at 0x7f5ff9f0e320>"
            ]
          },
          "metadata": {
            "tags": []
          },
          "execution_count": 32
        }
      ]
    },
    {
      "cell_type": "code",
      "metadata": {
        "id": "nV6t6wOIhIdN",
        "colab_type": "code",
        "colab": {
          "base_uri": "https://localhost:8080/",
          "height": 68
        },
        "outputId": "a7e263cb-6bf2-4e15-9db2-52bdf0d878be"
      },
      "source": [
        "modelo_3 =keras.Sequential([\n",
        "            keras.layers.Flatten(input_shape=(28,28)),               # Camada 0\n",
        "            keras.layers.Dense(256, activation=tf.nn.relu),  # Camada 1.1\n",
        "            keras.layers.Dense(128, activation=tf.nn.relu),  # Camada 1.2\n",
        "            keras.layers.Dense(64, activation=tf.nn.relu),  # Camada 1.3\n",
        "            keras.layers.Dense(10, activation=tf.nn.softmax) # Camada 2\n",
        "])\n",
        "\n",
        "modelo_3.compile(optimizer='adam',loss='sparse_categorical_crossentropy')\n",
        "\n",
        "modelo_3.fit(imagens_treino_normalizada,identificacoes_treino)"
      ],
      "execution_count": 33,
      "outputs": [
        {
          "output_type": "stream",
          "text": [
            "Train on 60000 samples\n",
            "60000/60000 [==============================] - 8s 128us/sample - loss: 0.4785\n"
          ],
          "name": "stdout"
        },
        {
          "output_type": "execute_result",
          "data": {
            "text/plain": [
              "<tensorflow.python.keras.callbacks.History at 0x7f5ff8ceb390>"
            ]
          },
          "metadata": {
            "tags": []
          },
          "execution_count": 33
        }
      ]
    },
    {
      "cell_type": "markdown",
      "metadata": {
        "id": "H7h-qnEgQj08",
        "colab_type": "text"
      },
      "source": [
        "Ao se adicionar a camada oculta extra no ```modelo_2```, este apresentou uma melhora quase insignificante em relação ao original, enquanto ainda aumentou o custo de processamento em 28%.\n",
        "\n",
        "O ```modelo_3``` também não apresentou nenhuma mudança significativa na perda, gerando um custo ainda maior, 43% a mais.\n",
        "\n",
        "\n",
        "Isso indica que **aumentar o número de camadas ocultas não é interessante para esta modelagem**."
      ]
    }
  ]
}